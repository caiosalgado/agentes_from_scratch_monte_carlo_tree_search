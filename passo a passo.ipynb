{
 "cells": [
  {
   "cell_type": "code",
   "execution_count": 1,
   "metadata": {},
   "outputs": [],
   "source": [
    "example = {  \n",
    "    \"problem\": \"Find the number of positive integers n ≤ 100 such that n² + 1 is divisible by 3.\",  \n",
    "    \"answer\": \"33\"  \n",
    "}  "
   ]
  },
  {
   "cell_type": "code",
   "execution_count": 2,
   "metadata": {},
   "outputs": [],
   "source": [
    "query = example['problem']\n",
    "ground_truth = example['answer']"
   ]
  },
  {
   "cell_type": "code",
   "execution_count": 3,
   "metadata": {},
   "outputs": [],
   "source": [
    "import re\n",
    "\n",
    "pattern = re.compile(r'\\-?\\d+\\.\\d+|\\-?\\d+')\n",
    "\n",
    "def extract_label(text: str) -> str:\n",
    "\n",
    "    if '\\n####' in text:\n",
    "        text = text.split('\\n####')[-1].replace(',','')\n",
    "    elif 'The answer is' in text:\n",
    "        text = text.split('The answer is')[-1].replace(',','')\n",
    "    numbers = pattern.findall(text)\n",
    "    if not numbers:\n",
    "        return None\n",
    "    return numbers[0]"
   ]
  },
  {
   "cell_type": "code",
   "execution_count": 4,
   "metadata": {},
   "outputs": [
    {
     "data": {
      "text/plain": [
       "'33'"
      ]
     },
     "execution_count": 4,
     "metadata": {},
     "output_type": "execute_result"
    }
   ],
   "source": [
    "extract_label(ground_truth)"
   ]
  },
  {
   "cell_type": "code",
   "execution_count": 5,
   "metadata": {},
   "outputs": [],
   "source": [
    "if extract_label(ground_truth).isdigit():\n",
    "    ans_format = r'\"[Final Answer] The answer is [number] \\n#### [number]\"'"
   ]
  },
  {
   "cell_type": "code",
   "execution_count": 6,
   "metadata": {},
   "outputs": [
    {
     "data": {
      "text/plain": [
       "'\"[Final Answer] The answer is [number] \\\\n#### [number]\"'"
      ]
     },
     "execution_count": 6,
     "metadata": {},
     "output_type": "execute_result"
    }
   ],
   "source": [
    "ans_format"
   ]
  },
  {
   "cell_type": "code",
   "execution_count": 7,
   "metadata": {},
   "outputs": [
    {
     "name": "stdout",
     "output_type": "stream",
     "text": [
      "Question: Find the number of positive integers n ≤ 100 such that n² + 1 is divisible by 3.\n",
      "Could you provide me with the thought process to solve this problem, but please don’t give me the answer or calculation, just the thought process?\n"
     ]
    }
   ],
   "source": [
    "hints_prompt = f'Question: {query}\\nCould you provide me with the thought process to solve this problem, but please don’t give me the answer or calculation, just the thought process?'\n",
    "print(hints_prompt)"
   ]
  },
  {
   "cell_type": "code",
   "execution_count": 8,
   "metadata": {},
   "outputs": [],
   "source": [
    "max_iter = 16"
   ]
  },
  {
   "cell_type": "markdown",
   "metadata": {},
   "source": [
    "### Baseado nas informações acima, vamos ter as variaveis abaixo:"
   ]
  },
  {
   "cell_type": "code",
   "execution_count": 9,
   "metadata": {},
   "outputs": [
    {
     "name": "stdout",
     "output_type": "stream",
     "text": [
      "query: Find the number of positive integers n ≤ 100 such that n² + 1 is divisible by 3.\n",
      "ground_truth: 33\n",
      "max_iter: 16\n",
      "ans_format: \"[Final Answer] The answer is [number] \\n#### [number]\"\n"
     ]
    }
   ],
   "source": [
    "print(f\"query: {query}\")\n",
    "print(f\"ground_truth: {ground_truth}\")\n",
    "print(f\"max_iter: {max_iter}\")\n",
    "print(f\"ans_format: {ans_format}\")"
   ]
  },
  {
   "cell_type": "markdown",
   "metadata": {},
   "source": [
    "## Inicio da Main"
   ]
  },
  {
   "cell_type": "code",
   "execution_count": 46,
   "metadata": {},
   "outputs": [
    {
     "data": {
      "text/plain": [
       "True"
      ]
     },
     "execution_count": 46,
     "metadata": {},
     "output_type": "execute_result"
    }
   ],
   "source": [
    "None == None"
   ]
  },
  {
   "cell_type": "code",
   "execution_count": 10,
   "metadata": {},
   "outputs": [],
   "source": [
    "# Lista de respostas para explorar\n",
    "to_explore = []\n",
    "\n",
    "# Dicionário com recompensas para cada resposta\n",
    "to_explore_reward = {}\n",
    "\n",
    "# Histórico de conversação para cada resposta\n",
    "history_bank = {}\n",
    "\n",
    "# Banco de dicas geradas\n",
    "hints_bank = {}\n",
    "\n",
    "# Valores UCB (Upper Confidence Bound) para seleção\n",
    "ucb_bank = {}\n",
    "\n",
    "# Estrutura de árvore para o MCTS\n",
    "fathers = {}\n",
    "childs = {}"
   ]
  },
  {
   "cell_type": "code",
   "execution_count": 11,
   "metadata": {},
   "outputs": [],
   "source": [
    "import aisuite as ai\n",
    "\n",
    "# Inicializa o cliente da AISuite\n",
    "client = ai.Client()\n",
    "client.configure({\n",
    "    \"ollama\": {\n",
    "        \"timeout\": 600\n",
    "    }\n",
    "})\n",
    "\n",
    "def generate(prompt, history=None, timeout=150, truncate=True, model_name=\"ollama:qwen3:14b\"):\n",
    "    \"\"\"\n",
    "    Gera uma resposta usando o modelo especificado via AISuite e Ollama.\n",
    "\n",
    "    Parâmetros:\n",
    "    - prompt (str): A entrada do usuário.\n",
    "    - history (list): Histórico de mensagens anteriores.\n",
    "    - timeout (int): Tempo máximo de espera pela resposta.\n",
    "    - truncate (bool): Se True, mantém apenas as duas últimas interações no histórico.\n",
    "    - model_name (str): Nome do modelo a ser utilizado.\n",
    "\n",
    "    Retorna:\n",
    "    - response_content (str): Resposta gerada pelo modelo.\n",
    "    - updated_history (list): Histórico atualizado com a nova interação.\n",
    "    \"\"\"\n",
    "    if history is None:\n",
    "        history = []\n",
    "\n",
    "    # Formata o histórico de mensagens\n",
    "    messages = [{\"role\": \"user\" if i % 2 == 0 else \"assistant\", \"content\": h} for i, h in enumerate(history)]\n",
    "\n",
    "    # Trunca o histórico se necessário\n",
    "    if truncate:\n",
    "        messages = messages[-2:]\n",
    "\n",
    "    # Adiciona o novo prompt\n",
    "    messages.append({\"role\": \"user\", \"content\": prompt})\n",
    "\n",
    "    # Chama o modelo através da AISuite\n",
    "    response = client.chat.completions.create(\n",
    "        model=model_name,\n",
    "        messages=messages,\n",
    "        temperature=0.95,\n",
    "        timeout=timeout\n",
    "    )\n",
    "\n",
    "    # Extrai o conteúdo da resposta\n",
    "    response_content = response.choices[0].message.content\n",
    "\n",
    "    # Atualiza o histórico com a nova interação\n",
    "    updated_history = history + [prompt, response_content]\n",
    "\n",
    "    return response_content, updated_history"
   ]
  },
  {
   "cell_type": "code",
   "execution_count": 12,
   "metadata": {},
   "outputs": [],
   "source": [
    "def get_weak_answer(question,new_len=0,ans_format=''):\n",
    "    query = f'Question: {question}\\nThe response should begin with [reasoning process]...[Verification]... and end with {ans_format}\\nLet\\'s think step by step.'\n",
    "    return generate(query,timeout=90)"
   ]
  },
  {
   "cell_type": "code",
   "execution_count": 13,
   "metadata": {},
   "outputs": [],
   "source": [
    "weak_answer,history = get_weak_answer(query,ans_format=ans_format)"
   ]
  },
  {
   "cell_type": "code",
   "execution_count": 14,
   "metadata": {},
   "outputs": [
    {
     "data": {
      "text/plain": [
       "['Question: Find the number of positive integers n ≤ 100 such that n² + 1 is divisible by 3.\\nThe response should begin with [reasoning process]...[Verification]... and end with \"[Final Answer] The answer is [number] \\\\n#### [number]\"\\nLet\\'s think step by step.',\n",
       " '[reasoning process] To solve the problem of finding how many positive integers $ n \\\\leq 100 $ make $ n^2 + 1 $ divisible by 3, we analyze the behavior of $ n^2 + 1 $ modulo 3.\\n\\nAny integer $ n $ modulo 3 can be 0, 1, or 2. We evaluate $ n^2 + 1 \\\\mod 3 $ for each case:\\n\\n- If $ n \\\\equiv 0 \\\\mod 3 $, then $ n^2 \\\\equiv 0 \\\\mod 3 $, and $ n^2 + 1 \\\\equiv 1 \\\\mod 3 $.\\n- If $ n \\\\equiv 1 \\\\mod 3 $, then $ n^2 \\\\equiv 1 \\\\mod 3 $, and $ n^2 + 1 \\\\equiv 2 \\\\mod 3 $.\\n- If $ n \\\\equiv 2 \\\\mod 3 $, then $ n^2 \\\\equiv 4 \\\\equiv 1 \\\\mod 3 $, and $ n^2 + 1 \\\\equiv 2 \\\\mod 3 $.\\n\\nIn all cases, $ n^2 + 1 $ is never congruent to 0 modulo 3. That is, $ n^2 + 1 $ is never divisible by 3.\\n\\nTo confirm this, we can test small values of $ n $ (e.g., $ n = 1 $ to $ n = 10 $) and observe that $ n^2 + 1 $ is not divisible by 3 for any of them. Moreover, a deeper number theory argument shows that the quadratic residues modulo 3 are only 0 and 1, and $ -1 \\\\mod 3 $ (i.e., 2) is not a quadratic residue. Therefore, there is no integer $ n $ such that $ n^2 + 1 \\\\equiv 0 \\\\mod 3 $.\\n\\nHence, there are no positive integers $ n \\\\leq 100 $ for which $ n^2 + 1 $ is divisible by 3.\\n\\n[Verification] We can also approach the problem by solving the equation $ n^2 + 1 \\\\equiv 0 \\\\mod 3 $, which implies $ n^2 \\\\equiv -1 \\\\mod 3 $, or $ n^2 \\\\equiv 2 \\\\mod 3 $. However, as shown earlier, this is impossible because the only quadratic residues modulo 3 are 0 and 1. This confirms our earlier conclusion.\\n\\n[Final Answer] The answer is 0 \\\\n#### 0']"
      ]
     },
     "execution_count": 14,
     "metadata": {},
     "output_type": "execute_result"
    }
   ],
   "source": [
    "history"
   ]
  },
  {
   "cell_type": "code",
   "execution_count": 15,
   "metadata": {},
   "outputs": [],
   "source": [
    "history_bank[weak_answer] = tuple(history)"
   ]
  },
  {
   "cell_type": "code",
   "execution_count": 16,
   "metadata": {},
   "outputs": [],
   "source": [
    "answers_list = [weak_answer,]"
   ]
  },
  {
   "cell_type": "code",
   "execution_count": 17,
   "metadata": {},
   "outputs": [
    {
     "data": {
      "text/plain": [
       "['[reasoning process] To solve the problem of finding how many positive integers $ n \\\\leq 100 $ make $ n^2 + 1 $ divisible by 3, we analyze the behavior of $ n^2 + 1 $ modulo 3.\\n\\nAny integer $ n $ modulo 3 can be 0, 1, or 2. We evaluate $ n^2 + 1 \\\\mod 3 $ for each case:\\n\\n- If $ n \\\\equiv 0 \\\\mod 3 $, then $ n^2 \\\\equiv 0 \\\\mod 3 $, and $ n^2 + 1 \\\\equiv 1 \\\\mod 3 $.\\n- If $ n \\\\equiv 1 \\\\mod 3 $, then $ n^2 \\\\equiv 1 \\\\mod 3 $, and $ n^2 + 1 \\\\equiv 2 \\\\mod 3 $.\\n- If $ n \\\\equiv 2 \\\\mod 3 $, then $ n^2 \\\\equiv 4 \\\\equiv 1 \\\\mod 3 $, and $ n^2 + 1 \\\\equiv 2 \\\\mod 3 $.\\n\\nIn all cases, $ n^2 + 1 $ is never congruent to 0 modulo 3. That is, $ n^2 + 1 $ is never divisible by 3.\\n\\nTo confirm this, we can test small values of $ n $ (e.g., $ n = 1 $ to $ n = 10 $) and observe that $ n^2 + 1 $ is not divisible by 3 for any of them. Moreover, a deeper number theory argument shows that the quadratic residues modulo 3 are only 0 and 1, and $ -1 \\\\mod 3 $ (i.e., 2) is not a quadratic residue. Therefore, there is no integer $ n $ such that $ n^2 + 1 \\\\equiv 0 \\\\mod 3 $.\\n\\nHence, there are no positive integers $ n \\\\leq 100 $ for which $ n^2 + 1 $ is divisible by 3.\\n\\n[Verification] We can also approach the problem by solving the equation $ n^2 + 1 \\\\equiv 0 \\\\mod 3 $, which implies $ n^2 \\\\equiv -1 \\\\mod 3 $, or $ n^2 \\\\equiv 2 \\\\mod 3 $. However, as shown earlier, this is impossible because the only quadratic residues modulo 3 are 0 and 1. This confirms our earlier conclusion.\\n\\n[Final Answer] The answer is 0 \\\\n#### 0']"
      ]
     },
     "execution_count": 17,
     "metadata": {},
     "output_type": "execute_result"
    }
   ],
   "source": [
    "to_explore = [weak_answer,]\n",
    "to_explore"
   ]
  },
  {
   "cell_type": "code",
   "execution_count": 18,
   "metadata": {},
   "outputs": [],
   "source": [
    "childs[weak_answer] = []"
   ]
  },
  {
   "cell_type": "code",
   "execution_count": 19,
   "metadata": {},
   "outputs": [],
   "source": [
    "fathers[weak_answer] = None"
   ]
  },
  {
   "cell_type": "code",
   "execution_count": 20,
   "metadata": {},
   "outputs": [],
   "source": [
    "def cal_reward(question,ans):\n",
    "    query = f'Question: {question}\\nAnswer:{ans}\\nAnalyze this Answer Strictly and Critic, point out every flaw for ervery possible imperfect to minus every possible score! You need to be very harsh and mean in calculating grades, and never give full marks to ensure that the marks are authoritative. \\nOutput a score between [-100,+100], ig. from -100 to +100. \\nResponse format:\\n[Analyst]...[Score]...'\n",
    "    ret = generate(query)\n",
    "    score = ret[0].split('Score')[-1]\n",
    "    scores = pattern.findall(score)\n",
    "    if not scores:\n",
    "        raise Exception('no')\n",
    "    else:\n",
    "        ret = float(scores[-1])\n",
    "        # if abs(ret - 100.0) < 1e-5:\n",
    "        #     ret = 50.0\n",
    "        if ret >= 95:\n",
    "            ret = 50\n",
    "        # elif ret <= -100:\n",
    "        #     ret = -50\n",
    "        return ret "
   ]
  },
  {
   "cell_type": "code",
   "execution_count": 21,
   "metadata": {},
   "outputs": [
    {
     "data": {
      "text/plain": [
       "50"
      ]
     },
     "execution_count": 21,
     "metadata": {},
     "output_type": "execute_result"
    }
   ],
   "source": [
    "cal_reward(query,weak_answer)"
   ]
  },
  {
   "cell_type": "code",
   "execution_count": 22,
   "metadata": {},
   "outputs": [],
   "source": [
    "def sampling_reward(answer):\n",
    "    if answer not in to_explore_reward:\n",
    "        to_explore_reward[answer] = []\n",
    "    reward = cal_reward(query,answer)\n",
    "    # if check(ground_truth,answer):\n",
    "    #     reward += 100\n",
    "    to_explore_reward[answer].append(reward)"
   ]
  },
  {
   "cell_type": "code",
   "execution_count": 23,
   "metadata": {},
   "outputs": [],
   "source": [
    "sampling_reward(weak_answer)"
   ]
  },
  {
   "cell_type": "code",
   "execution_count": 24,
   "metadata": {},
   "outputs": [
    {
     "data": {
      "text/plain": [
       "1"
      ]
     },
     "execution_count": 24,
     "metadata": {},
     "output_type": "execute_result"
    }
   ],
   "source": [
    "len(to_explore_reward.keys())"
   ]
  },
  {
   "cell_type": "code",
   "execution_count": 25,
   "metadata": {},
   "outputs": [
    {
     "data": {
      "text/plain": [
       "{'[reasoning process] To solve the problem of finding how many positive integers $ n \\\\leq 100 $ make $ n^2 + 1 $ divisible by 3, we analyze the behavior of $ n^2 + 1 $ modulo 3.\\n\\nAny integer $ n $ modulo 3 can be 0, 1, or 2. We evaluate $ n^2 + 1 \\\\mod 3 $ for each case:\\n\\n- If $ n \\\\equiv 0 \\\\mod 3 $, then $ n^2 \\\\equiv 0 \\\\mod 3 $, and $ n^2 + 1 \\\\equiv 1 \\\\mod 3 $.\\n- If $ n \\\\equiv 1 \\\\mod 3 $, then $ n^2 \\\\equiv 1 \\\\mod 3 $, and $ n^2 + 1 \\\\equiv 2 \\\\mod 3 $.\\n- If $ n \\\\equiv 2 \\\\mod 3 $, then $ n^2 \\\\equiv 4 \\\\equiv 1 \\\\mod 3 $, and $ n^2 + 1 \\\\equiv 2 \\\\mod 3 $.\\n\\nIn all cases, $ n^2 + 1 $ is never congruent to 0 modulo 3. That is, $ n^2 + 1 $ is never divisible by 3.\\n\\nTo confirm this, we can test small values of $ n $ (e.g., $ n = 1 $ to $ n = 10 $) and observe that $ n^2 + 1 $ is not divisible by 3 for any of them. Moreover, a deeper number theory argument shows that the quadratic residues modulo 3 are only 0 and 1, and $ -1 \\\\mod 3 $ (i.e., 2) is not a quadratic residue. Therefore, there is no integer $ n $ such that $ n^2 + 1 \\\\equiv 0 \\\\mod 3 $.\\n\\nHence, there are no positive integers $ n \\\\leq 100 $ for which $ n^2 + 1 $ is divisible by 3.\\n\\n[Verification] We can also approach the problem by solving the equation $ n^2 + 1 \\\\equiv 0 \\\\mod 3 $, which implies $ n^2 \\\\equiv -1 \\\\mod 3 $, or $ n^2 \\\\equiv 2 \\\\mod 3 $. However, as shown earlier, this is impossible because the only quadratic residues modulo 3 are 0 and 1. This confirms our earlier conclusion.\\n\\n[Final Answer] The answer is 0 \\\\n#### 0': [50]}"
      ]
     },
     "execution_count": 25,
     "metadata": {},
     "output_type": "execute_result"
    }
   ],
   "source": [
    "to_explore_reward"
   ]
  },
  {
   "cell_type": "code",
   "execution_count": 26,
   "metadata": {},
   "outputs": [
    {
     "data": {
      "text/plain": [
       "(list, 2)"
      ]
     },
     "execution_count": 26,
     "metadata": {},
     "output_type": "execute_result"
    }
   ],
   "source": [
    "type(history), len(history)"
   ]
  },
  {
   "cell_type": "code",
   "execution_count": 27,
   "metadata": {},
   "outputs": [
    {
     "data": {
      "text/plain": [
       "'Question: Find the number of positive integers n ≤ 100 such that n² + 1 is divisible by 3.\\nThe response should begin with [reasoning process]...[Verification]... and end with \"[Final Answer] The answer is [number] \\\\n#### [number]\"\\nLet\\'s think step by step.'"
      ]
     },
     "execution_count": 27,
     "metadata": {},
     "output_type": "execute_result"
    }
   ],
   "source": [
    "history[0]"
   ]
  },
  {
   "cell_type": "code",
   "execution_count": 28,
   "metadata": {},
   "outputs": [
    {
     "data": {
      "text/plain": [
       "'[reasoning process] To solve the problem of finding how many positive integers $ n \\\\leq 100 $ make $ n^2 + 1 $ divisible by 3, we analyze the behavior of $ n^2 + 1 $ modulo 3.\\n\\nAny integer $ n $ modulo 3 can be 0, 1, or 2. We evaluate $ n^2 + 1 \\\\mod 3 $ for each case:\\n\\n- If $ n \\\\equiv 0 \\\\mod 3 $, then $ n^2 \\\\equiv 0 \\\\mod 3 $, and $ n^2 + 1 \\\\equiv 1 \\\\mod 3 $.\\n- If $ n \\\\equiv 1 \\\\mod 3 $, then $ n^2 \\\\equiv 1 \\\\mod 3 $, and $ n^2 + 1 \\\\equiv 2 \\\\mod 3 $.\\n- If $ n \\\\equiv 2 \\\\mod 3 $, then $ n^2 \\\\equiv 4 \\\\equiv 1 \\\\mod 3 $, and $ n^2 + 1 \\\\equiv 2 \\\\mod 3 $.\\n\\nIn all cases, $ n^2 + 1 $ is never congruent to 0 modulo 3. That is, $ n^2 + 1 $ is never divisible by 3.\\n\\nTo confirm this, we can test small values of $ n $ (e.g., $ n = 1 $ to $ n = 10 $) and observe that $ n^2 + 1 $ is not divisible by 3 for any of them. Moreover, a deeper number theory argument shows that the quadratic residues modulo 3 are only 0 and 1, and $ -1 \\\\mod 3 $ (i.e., 2) is not a quadratic residue. Therefore, there is no integer $ n $ such that $ n^2 + 1 \\\\equiv 0 \\\\mod 3 $.\\n\\nHence, there are no positive integers $ n \\\\leq 100 $ for which $ n^2 + 1 $ is divisible by 3.\\n\\n[Verification] We can also approach the problem by solving the equation $ n^2 + 1 \\\\equiv 0 \\\\mod 3 $, which implies $ n^2 \\\\equiv -1 \\\\mod 3 $, or $ n^2 \\\\equiv 2 \\\\mod 3 $. However, as shown earlier, this is impossible because the only quadratic residues modulo 3 are 0 and 1. This confirms our earlier conclusion.\\n\\n[Final Answer] The answer is 0 \\\\n#### 0'"
      ]
     },
     "execution_count": 28,
     "metadata": {},
     "output_type": "execute_result"
    }
   ],
   "source": [
    "weak_answer"
   ]
  },
  {
   "cell_type": "markdown",
   "metadata": {},
   "source": [
    "## Add uma resposta ruim\n",
    "\n",
    "\n",
    "Nesse momento adicionamos uma resposta ruim no lugar da resposta fraca.\n"
   ]
  },
  {
   "cell_type": "code",
   "execution_count": 29,
   "metadata": {},
   "outputs": [
    {
     "data": {
      "text/plain": [
       "-100.0"
      ]
     },
     "execution_count": 29,
     "metadata": {},
     "output_type": "execute_result"
    }
   ],
   "source": [
    "cal_reward(query,'I don\\'t know how to solve this question.')"
   ]
  },
  {
   "cell_type": "code",
   "execution_count": 30,
   "metadata": {},
   "outputs": [],
   "source": [
    "sampling_reward(weak_answer)"
   ]
  },
  {
   "cell_type": "code",
   "execution_count": 31,
   "metadata": {},
   "outputs": [],
   "source": [
    "def check(gt,ans):\n",
    "\n",
    "    gt_label = extract_label(gt)\n",
    "    ans_label = extract_label(ans)\n",
    "    # print(gt_label,ans_label)\n",
    "    if gt_label is None or ans_label is None:\n",
    "        return False\n",
    "    if ans_label == gt_label or abs(float(ans_label) - float(gt_label)) < 1e-5:\n",
    "        return True\n",
    "    else:\n",
    "        return False\n"
   ]
  },
  {
   "cell_type": "code",
   "execution_count": 32,
   "metadata": {},
   "outputs": [],
   "source": [
    "alpha = 0.45"
   ]
  },
  {
   "cell_type": "code",
   "execution_count": 33,
   "metadata": {},
   "outputs": [
    {
     "data": {
      "text/plain": [
       "{}"
      ]
     },
     "execution_count": 33,
     "metadata": {},
     "output_type": "execute_result"
    }
   ],
   "source": [
    "ucb_bank"
   ]
  },
  {
   "cell_type": "code",
   "execution_count": null,
   "metadata": {},
   "outputs": [],
   "source": [
    "def compute_ucb(r_c, N_n, N_c, C):\n",
    "    return r_c + C * math.sqrt(math.log(N_n + 1) / (N_c + 1e-5))"
   ]
  },
  {
   "cell_type": "code",
   "execution_count": null,
   "metadata": {},
   "outputs": [],
   "source": [
    "def update_ucb(fathers, childs, to_explore, to_explore_reward, ucb_bank, C=1.4,gamma=0.85):\n",
    "    # 计算所有节点的访问次数\n",
    "    visit_count = {node: len(to_explore_reward[node]) for node in to_explore}\n",
    "\n",
    "    # 计算所有节点的平均奖励\n",
    "    # avg_reward = {node: sum(to_explore_reward[node]) / len(to_explore_reward[node]) for node in to_explore}\n",
    "    avg_reward = {node: (min(to_explore_reward[node]) + np.mean(to_explore_reward[node])) / 2 for node in to_explore}\n",
    "\n",
    "    # 获取所有叶子节点\n",
    "    leaves = set(to_explore) - set(fathers.values())\n",
    "    \n",
    "    # 更新所有叶子节点的UCB值\n",
    "    for leaf in leaves:\n",
    "        # ucb_bank[leaf] = avg_reward[leaf]\n",
    "        ucb_bank[leaf] = compute_ucb(avg_reward[leaf],len(to_explore_reward.get(fathers.get(leaf,None),[])),len(to_explore_reward.get(leaf,[])),C)\n",
    "    \n",
    "    # 从叶子节点向上更新父节点的UCB值\n",
    "    nodes_to_update = list(leaves)\n",
    "    while nodes_to_update:\n",
    "        new_nodes_to_update = set()\n",
    "        for node in nodes_to_update:\n",
    "            father = fathers.get(node)\n",
    "            if father is not None:\n",
    "                if father not in ucb_bank:\n",
    "                    new_nodes_to_update.add(father)\n",
    "                if father in ucb_bank:\n",
    "                    # 计算父节点的UCB值\n",
    "                    ucb_values = []\n",
    "                    child_reward = []\n",
    "                    for child in childs[father]:\n",
    "                        ucb_values.append(ucb_bank[child])\n",
    "                        child_reward.append(avg_reward[child])\n",
    "                    father_reward = (avg_reward[father] + max(child_reward))/2\n",
    "                    ucb_bank[father] = compute_ucb(father_reward,len(to_explore_reward.get(fathers.get(father,None),[])),len(to_explore_reward.get(father,[])),C)\n",
    "        nodes_to_update = list(new_nodes_to_update)\n"
   ]
  },
  {
   "cell_type": "code",
   "execution_count": null,
   "metadata": {},
   "outputs": [],
   "source": [
    "def compute_ucb(r_c, N_n, N_c, C):\n",
    "    return r_c + C * math.sqrt(math.log(N_n + 1) / (N_c + 1e-5))"
   ]
  },
  {
   "cell_type": "code",
   "execution_count": null,
   "metadata": {},
   "outputs": [],
   "source": [
    "def filter_mature_node(childs, to_explore, to_explore_reward,max_expand=3):\n",
    "    filterd_to_explore = []\n",
    "    avg_reward = {node: (min(to_explore_reward[node]) + np.mean(to_explore_reward[node])) / 2 for node in to_explore}\n",
    "\n",
    "    for node in to_explore:\n",
    "        if len(childs.get(node,[])) < max_expand or max([avg_reward.get(child,-999) for child in childs.get(node,[])]) < avg_reward.get(node,-999):\n",
    "            filterd_to_explore.append(node)\n",
    "    \n",
    "    return filterd_to_explore"
   ]
  },
  {
   "cell_type": "code",
   "execution_count": 35,
   "metadata": {},
   "outputs": [
    {
     "name": "stdout",
     "output_type": "stream",
     "text": [
      "N=100, C=1.4, n= 1 -> 3.504352436805086\n",
      "N=100, C=1.4, n= 5 -> 1.8435872554126627\n",
      "N=100, C=1.4, n= 10 -> 1.4500596594181157\n",
      "N=100, C=1.4, n= 50 -> 0.9248795962278409\n",
      "N=100, C=1.4, n= 100 -> 0.8004352436805087\n",
      "n=10, C=1.4, N= 10 -> 1.1717936277063314\n",
      "n=10, C=1.4, N= 100 -> 1.4500596594181157\n",
      "n=10, C=1.4, N= 1000 -> 1.663580695388377\n",
      "n=10, C=1.4, N= 10000 -> 1.8435872554126627\n",
      "N=1000, n=10, C= 0.5 -> 0.9155645340672776\n",
      "N=1000, n=10, C= 1.0 -> 1.3311290681345551\n",
      "N=1000, n=10, C= 1.4 -> 1.663580695388377\n",
      "N=1000, n=10, C= 2.0 -> 2.1622581362691102\n",
      "N=1000, n=10, C= 3.0 -> 2.993387204403665\n"
     ]
    }
   ],
   "source": [
    "import math\n",
    "\n",
    "def ucb(mean, C, N, n):\n",
    "    return mean + C*math.sqrt(math.log(N)/n)\n",
    "\n",
    "mean = 0.5\n",
    "for n in [1,5,10,50,100]:\n",
    "    print('N=100, C=1.4, n=', n, '->', ucb(mean,1.4,100,n))\n",
    "\n",
    "for N in [10,100,1000,10000]:\n",
    "    print('n=10, C=1.4, N=', N, '->', ucb(mean,1.4,N,10))\n",
    "\n",
    "for C in [0.5,1.0,1.4,2.0,3.0]:\n",
    "    print('N=1000, n=10, C=', C, '->', ucb(mean,C,1000,10))"
   ]
  },
  {
   "cell_type": "code",
   "execution_count": 36,
   "metadata": {},
   "outputs": [],
   "source": [
    "import math"
   ]
  },
  {
   "cell_type": "code",
   "execution_count": 45,
   "metadata": {},
   "outputs": [
    {
     "data": {
      "text/html": [
       "<div>\n",
       "<style scoped>\n",
       "    .dataframe tbody tr th:only-of-type {\n",
       "        vertical-align: middle;\n",
       "    }\n",
       "\n",
       "    .dataframe tbody tr th {\n",
       "        vertical-align: top;\n",
       "    }\n",
       "\n",
       "    .dataframe thead th {\n",
       "        text-align: right;\n",
       "    }\n",
       "</style>\n",
       "<table border=\"1\" class=\"dataframe\">\n",
       "  <thead>\n",
       "    <tr style=\"text-align: right;\">\n",
       "      <th></th>\n",
       "      <th>n_X</th>\n",
       "      <th>n_Y</th>\n",
       "      <th>N</th>\n",
       "      <th>UCB_X</th>\n",
       "      <th>UCB_Y</th>\n",
       "      <th>Escolhido</th>\n",
       "    </tr>\n",
       "  </thead>\n",
       "  <tbody>\n",
       "    <tr>\n",
       "      <th>0</th>\n",
       "      <td>2</td>\n",
       "      <td>2</td>\n",
       "      <td>4</td>\n",
       "      <td>5.03</td>\n",
       "      <td>4.63</td>\n",
       "      <td>X</td>\n",
       "    </tr>\n",
       "    <tr>\n",
       "      <th>1</th>\n",
       "      <td>3</td>\n",
       "      <td>2</td>\n",
       "      <td>5</td>\n",
       "      <td>4.93</td>\n",
       "      <td>4.70</td>\n",
       "      <td>X</td>\n",
       "    </tr>\n",
       "    <tr>\n",
       "      <th>2</th>\n",
       "      <td>4</td>\n",
       "      <td>2</td>\n",
       "      <td>6</td>\n",
       "      <td>4.87</td>\n",
       "      <td>4.75</td>\n",
       "      <td>X</td>\n",
       "    </tr>\n",
       "    <tr>\n",
       "      <th>3</th>\n",
       "      <td>5</td>\n",
       "      <td>2</td>\n",
       "      <td>7</td>\n",
       "      <td>4.82</td>\n",
       "      <td>4.79</td>\n",
       "      <td>X</td>\n",
       "    </tr>\n",
       "    <tr>\n",
       "      <th>4</th>\n",
       "      <td>6</td>\n",
       "      <td>2</td>\n",
       "      <td>8</td>\n",
       "      <td>4.79</td>\n",
       "      <td>4.82</td>\n",
       "      <td>Y</td>\n",
       "    </tr>\n",
       "    <tr>\n",
       "      <th>5</th>\n",
       "      <td>7</td>\n",
       "      <td>2</td>\n",
       "      <td>9</td>\n",
       "      <td>4.76</td>\n",
       "      <td>4.85</td>\n",
       "      <td>Y</td>\n",
       "    </tr>\n",
       "    <tr>\n",
       "      <th>6</th>\n",
       "      <td>8</td>\n",
       "      <td>2</td>\n",
       "      <td>10</td>\n",
       "      <td>4.74</td>\n",
       "      <td>4.87</td>\n",
       "      <td>Y</td>\n",
       "    </tr>\n",
       "    <tr>\n",
       "      <th>7</th>\n",
       "      <td>9</td>\n",
       "      <td>2</td>\n",
       "      <td>11</td>\n",
       "      <td>4.72</td>\n",
       "      <td>4.89</td>\n",
       "      <td>Y</td>\n",
       "    </tr>\n",
       "    <tr>\n",
       "      <th>8</th>\n",
       "      <td>10</td>\n",
       "      <td>2</td>\n",
       "      <td>12</td>\n",
       "      <td>4.70</td>\n",
       "      <td>4.91</td>\n",
       "      <td>Y</td>\n",
       "    </tr>\n",
       "    <tr>\n",
       "      <th>9</th>\n",
       "      <td>11</td>\n",
       "      <td>2</td>\n",
       "      <td>13</td>\n",
       "      <td>4.68</td>\n",
       "      <td>4.93</td>\n",
       "      <td>Y</td>\n",
       "    </tr>\n",
       "    <tr>\n",
       "      <th>10</th>\n",
       "      <td>12</td>\n",
       "      <td>2</td>\n",
       "      <td>14</td>\n",
       "      <td>4.67</td>\n",
       "      <td>4.95</td>\n",
       "      <td>Y</td>\n",
       "    </tr>\n",
       "    <tr>\n",
       "      <th>11</th>\n",
       "      <td>13</td>\n",
       "      <td>2</td>\n",
       "      <td>15</td>\n",
       "      <td>4.66</td>\n",
       "      <td>4.96</td>\n",
       "      <td>Y</td>\n",
       "    </tr>\n",
       "    <tr>\n",
       "      <th>12</th>\n",
       "      <td>14</td>\n",
       "      <td>2</td>\n",
       "      <td>16</td>\n",
       "      <td>4.65</td>\n",
       "      <td>4.98</td>\n",
       "      <td>Y</td>\n",
       "    </tr>\n",
       "    <tr>\n",
       "      <th>13</th>\n",
       "      <td>15</td>\n",
       "      <td>2</td>\n",
       "      <td>17</td>\n",
       "      <td>4.63</td>\n",
       "      <td>4.99</td>\n",
       "      <td>Y</td>\n",
       "    </tr>\n",
       "    <tr>\n",
       "      <th>14</th>\n",
       "      <td>16</td>\n",
       "      <td>2</td>\n",
       "      <td>18</td>\n",
       "      <td>4.63</td>\n",
       "      <td>5.00</td>\n",
       "      <td>Y</td>\n",
       "    </tr>\n",
       "    <tr>\n",
       "      <th>15</th>\n",
       "      <td>17</td>\n",
       "      <td>2</td>\n",
       "      <td>19</td>\n",
       "      <td>4.62</td>\n",
       "      <td>5.01</td>\n",
       "      <td>Y</td>\n",
       "    </tr>\n",
       "    <tr>\n",
       "      <th>16</th>\n",
       "      <td>18</td>\n",
       "      <td>2</td>\n",
       "      <td>20</td>\n",
       "      <td>4.61</td>\n",
       "      <td>5.02</td>\n",
       "      <td>Y</td>\n",
       "    </tr>\n",
       "    <tr>\n",
       "      <th>17</th>\n",
       "      <td>19</td>\n",
       "      <td>2</td>\n",
       "      <td>21</td>\n",
       "      <td>4.60</td>\n",
       "      <td>5.03</td>\n",
       "      <td>Y</td>\n",
       "    </tr>\n",
       "    <tr>\n",
       "      <th>18</th>\n",
       "      <td>20</td>\n",
       "      <td>2</td>\n",
       "      <td>22</td>\n",
       "      <td>4.59</td>\n",
       "      <td>5.04</td>\n",
       "      <td>Y</td>\n",
       "    </tr>\n",
       "  </tbody>\n",
       "</table>\n",
       "</div>"
      ],
      "text/plain": [
       "    n_X  n_Y   N  UCB_X  UCB_Y Escolhido\n",
       "0     2    2   4   5.03   4.63         X\n",
       "1     3    2   5   4.93   4.70         X\n",
       "2     4    2   6   4.87   4.75         X\n",
       "3     5    2   7   4.82   4.79         X\n",
       "4     6    2   8   4.79   4.82         Y\n",
       "5     7    2   9   4.76   4.85         Y\n",
       "6     8    2  10   4.74   4.87         Y\n",
       "7     9    2  11   4.72   4.89         Y\n",
       "8    10    2  12   4.70   4.91         Y\n",
       "9    11    2  13   4.68   4.93         Y\n",
       "10   12    2  14   4.67   4.95         Y\n",
       "11   13    2  15   4.66   4.96         Y\n",
       "12   14    2  16   4.65   4.98         Y\n",
       "13   15    2  17   4.63   4.99         Y\n",
       "14   16    2  18   4.63   5.00         Y\n",
       "15   17    2  19   4.62   5.01         Y\n",
       "16   18    2  20   4.61   5.02         Y\n",
       "17   19    2  21   4.60   5.03         Y\n",
       "18   20    2  22   4.59   5.04         Y"
      ]
     },
     "execution_count": 45,
     "metadata": {},
     "output_type": "execute_result"
    }
   ],
   "source": [
    "import pandas as pd, math\n",
    "\n",
    "def compute_ucb(mean: float, C: float, N: int, n_i: int) -> float:\n",
    "    \"\"\"\n",
    "    Calcula o valor de Upper Confidence Bound (UCB) para um braço/alternativa.\n",
    "\n",
    "    Parameters\n",
    "    ----------\n",
    "    mean : float\n",
    "        Média empírica das recompensas desse braço.\n",
    "    C : float\n",
    "        Constante de exploração.\n",
    "    N : int\n",
    "        Número total de interações (visitas) já realizadas.\n",
    "    n_i : int\n",
    "        Número de vezes que esse braço foi escolhido.\n",
    "\n",
    "    Returns\n",
    "    -------\n",
    "    float\n",
    "        Valor UCB.\n",
    "    \"\"\"\n",
    "    return mean + C * math.sqrt(math.log(N) / n_i)\n",
    "\n",
    "# ----- Exemplo prático: restaurantes X e Y -----\n",
    "C = 1\n",
    "avg_X = 4.2   # média observada do restaurante X\n",
    "avg_Y = 3.8   # média observada do restaurante Y\n",
    "n_Y  = 2      # Y foi visitado 2 vezes\n",
    "\n",
    "rows = []\n",
    "for n_X in range(2, 21):          # considerar de 2 a 20 visitas ao X\n",
    "    N = n_X + n_Y                 # total de visitas\n",
    "    ucb_X = compute_ucb(avg_X, C, N, n_X)\n",
    "    ucb_Y = compute_ucb(avg_Y, C, N, n_Y)\n",
    "    chosen = \"X\" if ucb_X >= ucb_Y else \"Y\"\n",
    "    rows.append(\n",
    "        {\"n_X\": n_X, \"n_Y\": n_Y, \"N\": N,\n",
    "         \"UCB_X\": round(ucb_X, 2), \"UCB_Y\": round(ucb_Y, 2),\n",
    "         \"Escolhido\": chosen}\n",
    "    )\n",
    "\n",
    "df = pd.DataFrame(rows)\n",
    "df"
   ]
  },
  {
   "cell_type": "code",
   "execution_count": null,
   "metadata": {},
   "outputs": [],
   "source": []
  }
 ],
 "metadata": {
  "kernelspec": {
   "display_name": ".venv",
   "language": "python",
   "name": "python3"
  },
  "language_info": {
   "codemirror_mode": {
    "name": "ipython",
    "version": 3
   },
   "file_extension": ".py",
   "mimetype": "text/x-python",
   "name": "python",
   "nbconvert_exporter": "python",
   "pygments_lexer": "ipython3",
   "version": "3.12.8"
  }
 },
 "nbformat": 4,
 "nbformat_minor": 2
}
